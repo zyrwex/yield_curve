{
 "cells": [
  {
   "cell_type": "code",
   "execution_count": 5,
   "id": "87ba5e3f",
   "metadata": {},
   "outputs": [],
   "source": [
    "import json\n",
    "import requests\n",
    "import pandas as pd\n",
    "import numpy as np\n",
    "import matplotlib.pyplot as plt"
   ]
  },
  {
   "cell_type": "code",
   "execution_count": 6,
   "id": "335e0a2e",
   "metadata": {},
   "outputs": [
    {
     "data": {
      "text/html": [
       "<div>\n",
       "<style scoped>\n",
       "    .dataframe tbody tr th:only-of-type {\n",
       "        vertical-align: middle;\n",
       "    }\n",
       "\n",
       "    .dataframe tbody tr th {\n",
       "        vertical-align: top;\n",
       "    }\n",
       "\n",
       "    .dataframe thead th {\n",
       "        text-align: right;\n",
       "    }\n",
       "</style>\n",
       "<table border=\"1\" class=\"dataframe\">\n",
       "  <thead>\n",
       "    <tr style=\"text-align: right;\">\n",
       "      <th></th>\n",
       "      <th>Symbol</th>\n",
       "      <th>Yield</th>\n",
       "    </tr>\n",
       "  </thead>\n",
       "  <tbody>\n",
       "    <tr>\n",
       "      <th>0</th>\n",
       "      <td>US1M</td>\n",
       "      <td>0.325</td>\n",
       "    </tr>\n",
       "    <tr>\n",
       "      <th>1</th>\n",
       "      <td>US3M</td>\n",
       "      <td>0.838</td>\n",
       "    </tr>\n",
       "    <tr>\n",
       "      <th>2</th>\n",
       "      <td>US6M</td>\n",
       "      <td>1.386</td>\n",
       "    </tr>\n",
       "    <tr>\n",
       "      <th>3</th>\n",
       "      <td>US1Y</td>\n",
       "      <td>2.004</td>\n",
       "    </tr>\n",
       "    <tr>\n",
       "      <th>4</th>\n",
       "      <td>US2Y</td>\n",
       "      <td>2.641</td>\n",
       "    </tr>\n",
       "    <tr>\n",
       "      <th>5</th>\n",
       "      <td>US3Y</td>\n",
       "      <td>2.799</td>\n",
       "    </tr>\n",
       "    <tr>\n",
       "      <th>6</th>\n",
       "      <td>US5Y</td>\n",
       "      <td>2.87</td>\n",
       "    </tr>\n",
       "    <tr>\n",
       "      <th>7</th>\n",
       "      <td>US7Y</td>\n",
       "      <td>2.891</td>\n",
       "    </tr>\n",
       "    <tr>\n",
       "      <th>8</th>\n",
       "      <td>US10Y</td>\n",
       "      <td>2.851</td>\n",
       "    </tr>\n",
       "    <tr>\n",
       "      <th>9</th>\n",
       "      <td>US20Y</td>\n",
       "      <td>3.116</td>\n",
       "    </tr>\n",
       "    <tr>\n",
       "      <th>10</th>\n",
       "      <td>US30Y</td>\n",
       "      <td>2.92</td>\n",
       "    </tr>\n",
       "  </tbody>\n",
       "</table>\n",
       "</div>"
      ],
      "text/plain": [
       "   Symbol  Yield\n",
       "0    US1M  0.325\n",
       "1    US3M  0.838\n",
       "2    US6M  1.386\n",
       "3    US1Y  2.004\n",
       "4    US2Y  2.641\n",
       "5    US3Y  2.799\n",
       "6    US5Y   2.87\n",
       "7    US7Y  2.891\n",
       "8   US10Y  2.851\n",
       "9   US20Y  3.116\n",
       "10  US30Y   2.92"
      ]
     },
     "execution_count": 6,
     "metadata": {},
     "output_type": "execute_result"
    }
   ],
   "source": [
    "url = \"https://quote.cnbc.com/quote-html-webservice/quote.htm\"\n",
    "\n",
    "params = {\n",
    "    \"noform\": \"1\",\n",
    "    \"partnerId\": \"2\",\n",
    "    \"fund\": \"1\",\n",
    "    \"exthrs\": \"0\",\n",
    "    \"output\": \"json\",\n",
    "    \"symbolType\": \"issue\",\n",
    "    \"symbols\": \"5093148|5093149|5093150|15183113|5093151|5093158|5093159|19892965|5093160|135058359|5093168\",\n",
    "    \"requestMethod\": \"extended\",\n",
    "}\n",
    "\n",
    "user_agent = 'Mozilla/5.0 (Macintosh; Intel Mac OS X 10_15_7) AppleWebKit/537.36 (KHTML, like Gecko) Chrome/100.0.4896.127 Safari/537.36'\n",
    "referer = 'https://google.com'\n",
    "headers = {'user-agent': user_agent, 'referer': referer}\n",
    "\n",
    "data = requests.get(url, headers=headers, params=params).json()\n",
    "lst_symbol = []\n",
    "lst_yield = []\n",
    "\n",
    "for i in data[\"ExtendedQuoteResult\"][\"ExtendedQuote\"]:\n",
    "    lst_symbol.append(i[\"QuickQuote\"][\"symbol\"])\n",
    "    lst_yield.append(i[\"QuickQuote\"][\"last\"])\n",
    "\n",
    "data_dct = {'Symbol': lst_symbol, 'Yield': lst_yield}\n",
    "data_df = pd.DataFrame(data_dct)\n",
    "data_df    "
   ]
  },
  {
   "cell_type": "code",
   "execution_count": 48,
   "id": "315a202d",
   "metadata": {},
   "outputs": [
    {
     "data": {
      "image/png": "[encoded data removed]",
      "text/plain": [
       "<Figure size 720x360 with 1 Axes>"
      ]
     },
     "metadata": {
      "needs_background": "light"
     },
     "output_type": "display_data"
    }
   ],
   "source": [
    "maturity_lst = ['1 Month', '3 Month', '6 Month', '1 Year', '2 Year', '3 Year', '5 Year', '7 Year', '10 Year', '20 Year', '30 Year']\n",
    "xpoints = np.arange(11)\n",
    "ypoints = data_df['Yield'].tolist()\n",
    "ypoints = [float(i) for i in ypoints]\n",
    "plt.figure(figsize=(10,5))\n",
    "plt.xticks(xpoints, maturity_lst)\n",
    "plt.yticks(np.arange(0, max(ypoints)+1, 0.5))\n",
    "plt.plot(xpoints, ypoints)\n",
    "plt.plot(ypoints, \"s\")\n",
    "plt.title('Yield Curve')\n",
    "plt.xlabel('Maturity in Years')\n",
    "plt.ylabel('Yield in %')\n",
    "plt.show()"
   ]
  }
 ],
 "metadata": {
  "kernelspec": {
   "display_name": "Python 3",
   "language": "python",
   "name": "python3"
  },
  "language_info": {
   "codemirror_mode": {
    "name": "ipython",
    "version": 3
   },
   "file_extension": ".py",
   "mimetype": "text/x-python",
   "name": "python",
   "nbconvert_exporter": "python",
   "pygments_lexer": "ipython3",
   "version": "3.8.8"
  }
 },
 "nbformat": 4,
 "nbformat_minor": 5
}
